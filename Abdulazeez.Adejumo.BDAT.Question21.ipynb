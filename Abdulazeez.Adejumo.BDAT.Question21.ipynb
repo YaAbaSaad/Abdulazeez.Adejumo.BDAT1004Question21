{
 "cells": [
  {
   "cell_type": "code",
   "execution_count": 3,
   "metadata": {},
   "outputs": [
    {
     "data": {
      "text/plain": [
       "(5.0, 1.3333333333333333)"
      ]
     },
     "execution_count": 3,
     "metadata": {},
     "output_type": "execute_result"
    }
   ],
   "source": [
    "class Point:\n",
    "    # Constructor for the Point class\n",
    "    def __init__(self, x=0, y=0):\n",
    "        # Initializing x and y coordinates of the point\n",
    "        self.x = x\n",
    "        self.y = y\n",
    "\n",
    "class Segment:\n",
    "    # Constructor for the Segment class\n",
    "    def __init__(self, point1, point2):\n",
    "        # Initializing the two points that define the segment\n",
    "        self.point1 = point1\n",
    "        self.point2 = point2\n",
    "    \n",
    "    # Method to calculate the length of the segment\n",
    "    def length(self):\n",
    "        # Using the distance formula to compute the length\n",
    "        return ((self.point2.x - self.point1.x)**2 + (self.point2.y - self.point1.y)**2)**0.5\n",
    "    \n",
    "    # Method to calculate the slope of the segment\n",
    "    def slope(self):\n",
    "        # Checking for vertical line to avoid division by zero\n",
    "        if (self.point2.x - self.point1.x) == 0:\n",
    "            return None\n",
    "        # Using the slope formula to compute the slope\n",
    "        return (self.point2.y - self.point1.y) / (self.point2.x - self.point1.x)\n",
    "\n",
    "# Creating two Point objects\n",
    "p1 = Point(3, 4)  # Point with coordinates (3, 4)\n",
    "p2 = Point()      # Point with default coordinates (0, 0)\n",
    "\n",
    "# Creating a Segment object using the two points\n",
    "s = Segment(p1, p2)\n",
    "\n",
    "# Calculating and storing the length and slope of the segment\n",
    "result_of_length = s.length()\n",
    "result_of_slope = s.slope()\n",
    "\n",
    "result_of_length, result_of_slope\n"
   ]
  }
 ],
 "metadata": {
  "kernelspec": {
   "display_name": "Python 3 (ipykernel)",
   "language": "python",
   "name": "python3"
  },
  "language_info": {
   "codemirror_mode": {
    "name": "ipython",
    "version": 3
   },
   "file_extension": ".py",
   "mimetype": "text/x-python",
   "name": "python",
   "nbconvert_exporter": "python",
   "pygments_lexer": "ipython3",
   "version": "3.11.4"
  }
 },
 "nbformat": 4,
 "nbformat_minor": 4
}
